{
 "cells": [
  {
   "cell_type": "code",
   "execution_count": 11,
   "metadata": {},
   "outputs": [
    {
     "name": "stdout",
     "output_type": "stream",
     "text": [
      "OpenCV 4.1.1\n"
     ]
    }
   ],
   "source": [
    "# -*- coding: utf-8 -*-\n",
    "\"\"\"\n",
    "Created on Tue Oct 22 11:01:33 2019\n",
    "@author: Partha.Dip\n",
    "\"\"\"\n",
    "import cv2 as cv\n",
    "\n",
    "print('OpenCV',cv.__version__)\n",
    "\n",
    "#Setup window properties\n",
    "winName = 'DroidCam'\n",
    "cv.namedWindow(winName, cv.WINDOW_NORMAL)\n",
    "\n",
    "#setup source\n",
    "cap = cv.VideoCapture('http://localhost:4747/mjpegfeed?640x480')\n",
    "  \n",
    "    \n",
    "#window killer\n",
    "def release () :\n",
    "    cv.destroyWindow(winName)\n",
    "    cap.release()\n",
    "       \n",
    "while cv.waitKey(1) < 0:\n",
    "    \n",
    "    # get frame from the stream\n",
    "    \n",
    "    hasFrame, frame = cap.read()\n",
    "    \n",
    "    if hasFrame==False:\n",
    "        print(\"Done processing !!!\")\n",
    "        release()\n",
    "        break\n",
    "        \n",
    "    #show the frame\n",
    "    cv.imshow(winName, frame) \n",
    "    \n",
    "#release resource    \n",
    "release()\n"
   ]
  },
  {
   "cell_type": "code",
   "execution_count": null,
   "metadata": {},
   "outputs": [],
   "source": []
  },
  {
   "cell_type": "code",
   "execution_count": null,
   "metadata": {},
   "outputs": [],
   "source": []
  }
 ],
 "metadata": {
  "kernelspec": {
   "display_name": "Python 3",
   "language": "python",
   "name": "python3"
  },
  "language_info": {
   "codemirror_mode": {
    "name": "ipython",
    "version": 3
   },
   "file_extension": ".py",
   "mimetype": "text/x-python",
   "name": "python",
   "nbconvert_exporter": "python",
   "pygments_lexer": "ipython3",
   "version": "3.7.3"
  }
 },
 "nbformat": 4,
 "nbformat_minor": 2
}
